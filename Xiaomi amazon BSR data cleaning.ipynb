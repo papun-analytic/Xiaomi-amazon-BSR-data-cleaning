{
 "cells": [
  {
   "cell_type": "code",
   "execution_count": 18,
   "id": "d31c0b25",
   "metadata": {},
   "outputs": [
    {
     "name": "stderr",
     "output_type": "stream",
     "text": [
      "C:\\Users\\HP\\AppData\\Local\\Temp\\ipykernel_4620\\684742442.py:45: FutureWarning: The default value of regex will change from True to False in a future version.\n",
      "  data[\"Marked_Price\"]=data[\"Marked_Price\"].str.replace(\"M.R.P.:         \",\"\")\n"
     ]
    }
   ],
   "source": [
    "# 1) Change '_root' to 'root'\n",
    "#2) Convert SKU to lowercase\n",
    "#3) Extract Brand from SKU , convert to lowercase\n",
    "#4) Clean Price column\n",
    "#5) Clean Product Rating column\n",
    "#6) Clean 'Ranking_from_outside' column , rename to 'BSR'\n",
    "#7) Rename column 'Crawl Source Input' to 'Source'\n",
    "#8) Rename 'Data Crawl Completion Time(UTC)' to 'Crawl date' , change format to mm/dd/yy\n",
    "#9)Remove records where Price<=Rs.1,500\n",
    "#10) Add price buckets '<10k','10-15k','15-20k','20-25k','>25k'\n",
    "#11) Marked price rupee symbol\n",
    "#12) bsr in ele\n",
    "import pandas as pd\n",
    "s\n",
    "data=pd.read_csv(r\"C:\\Users\\HP\\Downloads\\Amazon_BSR_xiaomi(9thto29th).csv\")\n",
    "data.rename({\"_root\":\"root\"},axis=1,inplace=True)\n",
    "data.rename({\"SKU\":\"sku\"},axis=1,inplace=True)\n",
    "data[\"Product Rating\"]=data[\"Product Rating\"].str.replace(\" out of 5 stars\",\"\")\n",
    "data[\"Ranking_from_outside\"]=data.index\n",
    "data.rename({\"Ranking_from_outside\":\"BSR\"},axis=1,inplace=True)\n",
    "data.rename({'Data Crawl Completion Time(UTC)':'Crawl date'},axis=1,inplace=True)\n",
    "data[\"Crawl date\"]=pd.to_datetime(data[\"Crawl date\"])\n",
    "data[\"Crawl date\"] = data[\"Crawl date\"].dt.strftime('%m-%d-%Y')\n",
    "data[\"Price\"]=data[\"Price\"].str.replace(\"₹\",\"\")\n",
    "data[\"Price\"]=data[\"Price\"].str.replace(\",\",\"\")\n",
    "data[\"Price\"]=data[\"Price\"].astype(float)\n",
    "data[\"Price_inside\"]=data[\"Price_inside\"].str.replace(\"₹\",\"\")\n",
    "data[\"Price_inside\"]=data[\"Price_inside\"].str.replace(\",\",\"\")\n",
    "data[\"Price_inside\"]=data[\"Price_inside\"].astype(float)\n",
    "data['Price'].fillna(data['Price_inside'], inplace=True)\n",
    "data.drop(data[data[\"Price\"]<1500].index,inplace=True)\n",
    "i=data[data[\"Price\"]<1500].index\n",
    "def category_mapping(price):\n",
    "    if price<10000:\n",
    "        return '<10k'\n",
    "    elif price>=10000 and price<=15000:\n",
    "        return '10-15k'\n",
    "    elif price>15000 and price <=20000:\n",
    "        return '15-20k'\n",
    "    elif price >20000 and price <=25000:\n",
    "        return '20-25k'\n",
    "    elif price>25000:\n",
    "        return '>25k'\n",
    "data[\"Marked_Price\"]=data[\"Marked_Price\"].str.replace(\"₹\",\"\")\n",
    "data[\"Marked_Price\"]=data[\"Marked_Price\"].str.replace(\",\",\"\")\n",
    "data[\"Marked_Price\"]=data[\"Marked_Price\"].str.replace(\"M.R.P.:         \",\"\")\n",
    "data[\"Marked_Price\"]=data[\"Marked_Price\"].str.partition(\".\")[0]\n",
    "data[\"Marked_Price\"]=data[\"Marked_Price\"].astype(float)\n",
    "data[\"BSR in Smartphones\"]=data[\"BSR in Smartphones\"].str.replace(\"#\",\"\")\n",
    "data[\"BSR in Electronis\"]=data[\"BSR in Electronis\"].str.replace(\"#\",\"\")\n",
    "d1=pd.read_csv(r\"C:\\Users\\HP\\Downloads\\Amazon_BSR_xiaomi(9thto29th).csv\")\n",
    "d1.drop(i,inplace=True)\n",
    "d1[\"Ranking_from_outside\"].fillna(d1[\"BSR in Smartphones\"],inplace=True)\n",
    "data[\"Ranking_from_outside\"]=d1[\"Ranking_from_outside\"]\n",
    "data[\"Ranking_from_outside\"]=data[\"Ranking_from_outside\"].str.replace(\"#\",\"\")\n",
    "data[\"Ranking_from_outside\"]=data[\"Ranking_from_outside\"].str.replace(\" in Smartphones\",\"\")\n",
    "data.drop([\"BSR\"],axis=1,inplace=True)\n",
    "data.rename({\"Ranking_from_outside\":\"BSR\"},axis=1,inplace=True)\n",
    "data.to_csv(\"amazon.csv\")\n"
   ]
  },
  {
   "cell_type": "code",
   "execution_count": null,
   "id": "6564e6aa",
   "metadata": {},
   "outputs": [],
   "source": [
    "C:\\Users\\HP\\Downloads\\Amazon_BSR_xiaomi(9thto29th).csv"
   ]
  },
  {
   "cell_type": "code",
   "execution_count": null,
   "id": "473f1ca3",
   "metadata": {},
   "outputs": [],
   "source": []
  }
 ],
 "metadata": {
  "kernelspec": {
   "display_name": "Python 3 (ipykernel)",
   "language": "python",
   "name": "python3"
  },
  "language_info": {
   "codemirror_mode": {
    "name": "ipython",
    "version": 3
   },
   "file_extension": ".py",
   "mimetype": "text/x-python",
   "name": "python",
   "nbconvert_exporter": "python",
   "pygments_lexer": "ipython3",
   "version": "3.9.12"
  }
 },
 "nbformat": 4,
 "nbformat_minor": 5
}
